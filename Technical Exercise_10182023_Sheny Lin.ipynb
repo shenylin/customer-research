{
 "cells": [
  {
   "cell_type": "markdown",
   "id": "815f8011",
   "metadata": {},
   "source": [
    "# Technical Exercise\n",
    "### Candidate: Sheny C. Lin\n",
    "### Date: 10/18/2023"
   ]
  },
  {
   "cell_type": "markdown",
   "id": "67c1ce05",
   "metadata": {},
   "source": [
    "## Creating a new dataset using SQL"
   ]
  },
  {
   "cell_type": "code",
   "execution_count": null,
   "id": "82cb4df3",
   "metadata": {},
   "outputs": [],
   "source": [
    "# Install necessary libraries: SQLite has been installed"
   ]
  },
  {
   "cell_type": "code",
   "execution_count": null,
   "id": "1f9cb61e",
   "metadata": {},
   "outputs": [],
   "source": [
    "# Import necessary libraries\n",
    "import sqlite3\n",
    "import pandas as pd"
   ]
  },
  {
   "cell_type": "code",
   "execution_count": null,
   "id": "1e74fed3",
   "metadata": {},
   "outputs": [],
   "source": [
    "# Connect to the database\n",
    "# For SQLite, if the database doesn't exist, it will be created\n",
    "# So I can either specify a filename, or create one if it's not already existed\n",
    "conn = sqlite3.connect('student_grades.db')"
   ]
  },
  {
   "cell_type": "code",
   "execution_count": null,
   "id": "563dc8c8",
   "metadata": {},
   "outputs": [],
   "source": [
    "# Create a new table with 3 columns: Name, Grade and Mark \n",
    "c = conn.cursor()\n",
    "c.execute('''CREATE TABLE Students (ID integer, Name text, Marks integer)''') \n",
    "c.execute('''CREATE TABLE Grades (Grade integer, Min_Mark integer, Max_Mark integer)''')\n",
    "conn.commit()"
   ]
  },
  {
   "cell_type": "code",
   "execution_count": null,
   "id": "4821aade",
   "metadata": {},
   "outputs": [],
   "source": [
    "# Question 1 \n",
    "# Select \"Name\" and \"Marks\" from Students (s) table; and \"Grade\" from Grades(g) table \n",
    "# We only want name of student who received grade no lower than 8\n",
    "# Show students names in descending order by \"Grade\", and order those students by \"Name\" \n",
    "\n",
    "query = \"\"\"\n",
    "SELECT s.Name, g.Grade, s.Marks   \n",
    "FROM Students s\n",
    "JOIN Grades g ON s.Marks BETWEEN g.Min_Mark AND g.Max_Mark\n",
    "WHERE g.Grade >= 8\n",
    "ORDER BY g.Grade DESC, s.Name ASC\n",
    "\"\"\"\n",
    "\n",
    "df = pd.read_sql_query(query, conn)\n",
    "display(df)"
   ]
  },
  {
   "cell_type": "code",
   "execution_count": null,
   "id": "c4ea6df4",
   "metadata": {},
   "outputs": [],
   "source": [
    "# Question 2\n",
    "# Use \"AVG\" to learn the average grade of all student and name the table as \"Average_Grade\"\n",
    "# Join two tables on the condition where a grade in the \"Grades\" table \n",
    "# where the student's marks fall between the \"Min_Mark\" and \"Max_Mark\" for that grade\n",
    "\n",
    "# For example, if a student has a mark of 85\n",
    "# and the Grades table specifies that a grade of 9 corresponds to marks between 80 and 89, \n",
    "# then that student's row will be combined with the row for grade 9 from the Grades table.\n",
    "\n",
    "query = \"\"\"\n",
    "SELECT AVG(g.Grade) AS Average_Grade\n",
    "FROM Students s\n",
    "JOIN Grades g ON s.Marks BETWEEN g.Min_Mark AND g.Max_Mark;\n",
    "\"\"\"\n",
    "\n",
    "df = pd.read_sql_query(query, conn)\n",
    "display(df)"
   ]
  },
  {
   "cell_type": "code",
   "execution_count": null,
   "id": "e0ff9c7f",
   "metadata": {},
   "outputs": [],
   "source": [
    "# Question 3 \n",
    "# Select ID, Name, Marks from \"Students\"\n",
    "# Show student(s) with the maximun marks\n",
    "\n",
    "query = \"\"\"\n",
    "SELECT ID, Name, Marks\n",
    "FROM Students\n",
    "WHERE Marks = (SELECT MAX(Marks) FROM Students);\n",
    "\"\"\"\n",
    "\n",
    "df = pd.read_sql_query(query, conn)\n",
    "display(df)"
   ]
  },
  {
   "cell_type": "markdown",
   "id": "f37e7bed",
   "metadata": {},
   "source": [
    "## Creating a new dataset using Pandas"
   ]
  },
  {
   "cell_type": "code",
   "execution_count": 1,
   "id": "ceab99cc",
   "metadata": {},
   "outputs": [],
   "source": [
    "import pandas as pd\n",
    "\n",
    "# There're two tables, one containing all customer info is \"customer\" dataset\n",
    "# The other containing all satisfaction rating is \"satisfaction\" dataset\n",
    "\n",
    "# Read those files using Pandas\n",
    "customer = pd.read_csv('customer.csv')\n",
    "satisfaction = pd.read_csv('satisfaction.csv')"
   ]
  },
  {
   "cell_type": "code",
   "execution_count": 2,
   "id": "dc398efd",
   "metadata": {},
   "outputs": [],
   "source": [
    "# Handle unwanted columns\n",
    "customer = customer.drop('Unnamed: 0', axis=1)\n",
    "satisfaction = satisfaction.drop('Unnamed: 0', axis=1)\n",
    "\n",
    "# Replace space with _\n",
    "customer.columns = [c.replace(' ', '_') for c in customer.columns]\n",
    "satisfaction.columns = [c.replace(' ', '_') for c in satisfaction.columns]"
   ]
  },
  {
   "cell_type": "code",
   "execution_count": 3,
   "id": "b9cfe0c7",
   "metadata": {},
   "outputs": [
    {
     "data": {
      "text/plain": [
       "id                 0\n",
       "Gender             0\n",
       "Customer_Type      0\n",
       "Age                0\n",
       "Type_of_Travel     0\n",
       "Class              0\n",
       "Flight_Distance    0\n",
       "dtype: int64"
      ]
     },
     "execution_count": 3,
     "metadata": {},
     "output_type": "execute_result"
    }
   ],
   "source": [
    "# Check NA values\n",
    "customer.isna().sum()"
   ]
  },
  {
   "cell_type": "code",
   "execution_count": 4,
   "id": "f60ed021",
   "metadata": {},
   "outputs": [
    {
     "data": {
      "text/plain": [
       "id                                     0\n",
       "Inflight_wifi_service                  0\n",
       "Departure/Arrival_time_convenient      0\n",
       "Ease_of_Online_booking                 0\n",
       "Gate_location                          0\n",
       "Food_and_drink                         0\n",
       "Online_boarding                        0\n",
       "Seat_comfort                           0\n",
       "Inflight_entertainment                 0\n",
       "On-board_service                       0\n",
       "Leg_room_service                       0\n",
       "Baggage_handling                       0\n",
       "Checkin_service                        0\n",
       "Inflight_service                       0\n",
       "Cleanliness                            0\n",
       "Departure_Delay_in_Minutes             0\n",
       "Arrival_Delay_in_Minutes             310\n",
       "satisfaction                           0\n",
       "dtype: int64"
      ]
     },
     "execution_count": 4,
     "metadata": {},
     "output_type": "execute_result"
    }
   ],
   "source": [
    "satisfaction.isna().sum()"
   ]
  },
  {
   "cell_type": "code",
   "execution_count": 5,
   "id": "0689247e",
   "metadata": {},
   "outputs": [
    {
     "data": {
      "text/plain": [
       "id                                   0\n",
       "Inflight_wifi_service                0\n",
       "Departure/Arrival_time_convenient    0\n",
       "Ease_of_Online_booking               0\n",
       "Gate_location                        0\n",
       "Food_and_drink                       0\n",
       "Online_boarding                      0\n",
       "Seat_comfort                         0\n",
       "Inflight_entertainment               0\n",
       "On-board_service                     0\n",
       "Leg_room_service                     0\n",
       "Baggage_handling                     0\n",
       "Checkin_service                      0\n",
       "Inflight_service                     0\n",
       "Cleanliness                          0\n",
       "Departure_Delay_in_Minutes           0\n",
       "Arrival_Delay_in_Minutes             0\n",
       "satisfaction                         0\n",
       "dtype: int64"
      ]
     },
     "execution_count": 5,
     "metadata": {},
     "output_type": "execute_result"
    }
   ],
   "source": [
    "# Impute NA with mean value\n",
    "satisfaction['Arrival_Delay_in_Minutes'] = satisfaction['Arrival_Delay_in_Minutes'].fillna(satisfaction['Arrival_Delay_in_Minutes'].mean())\n",
    "satisfaction.isna().sum()"
   ]
  },
  {
   "cell_type": "code",
   "execution_count": 6,
   "id": "510c6406",
   "metadata": {},
   "outputs": [
    {
     "name": "stdout",
     "output_type": "stream",
     "text": [
      "<class 'pandas.core.frame.DataFrame'>\n",
      "RangeIndex: 103904 entries, 0 to 103903\n",
      "Data columns (total 7 columns):\n",
      " #   Column           Non-Null Count   Dtype \n",
      "---  ------           --------------   ----- \n",
      " 0   id               103904 non-null  int64 \n",
      " 1   Gender           103904 non-null  object\n",
      " 2   Customer_Type    103904 non-null  object\n",
      " 3   Age              103904 non-null  int64 \n",
      " 4   Type_of_Travel   103904 non-null  object\n",
      " 5   Class            103904 non-null  object\n",
      " 6   Flight_Distance  103904 non-null  int64 \n",
      "dtypes: int64(3), object(4)\n",
      "memory usage: 5.5+ MB\n"
     ]
    }
   ],
   "source": [
    "customer.info()"
   ]
  },
  {
   "cell_type": "code",
   "execution_count": 7,
   "id": "f00a6650",
   "metadata": {},
   "outputs": [
    {
     "data": {
      "text/html": [
       "<div>\n",
       "<style scoped>\n",
       "    .dataframe tbody tr th:only-of-type {\n",
       "        vertical-align: middle;\n",
       "    }\n",
       "\n",
       "    .dataframe tbody tr th {\n",
       "        vertical-align: top;\n",
       "    }\n",
       "\n",
       "    .dataframe thead th {\n",
       "        text-align: right;\n",
       "    }\n",
       "</style>\n",
       "<table border=\"1\" class=\"dataframe\">\n",
       "  <thead>\n",
       "    <tr style=\"text-align: right;\">\n",
       "      <th></th>\n",
       "      <th>id</th>\n",
       "      <th>Gender</th>\n",
       "      <th>Customer_Type</th>\n",
       "      <th>Age</th>\n",
       "      <th>Type_of_Travel</th>\n",
       "      <th>Class</th>\n",
       "      <th>Flight_Distance</th>\n",
       "    </tr>\n",
       "  </thead>\n",
       "  <tbody>\n",
       "    <tr>\n",
       "      <th>0</th>\n",
       "      <td>70172</td>\n",
       "      <td>Male</td>\n",
       "      <td>Loyal Customer</td>\n",
       "      <td>13</td>\n",
       "      <td>Personal Travel</td>\n",
       "      <td>Eco Plus</td>\n",
       "      <td>460</td>\n",
       "    </tr>\n",
       "    <tr>\n",
       "      <th>1</th>\n",
       "      <td>5047</td>\n",
       "      <td>Male</td>\n",
       "      <td>disloyal Customer</td>\n",
       "      <td>25</td>\n",
       "      <td>Business travel</td>\n",
       "      <td>Business</td>\n",
       "      <td>235</td>\n",
       "    </tr>\n",
       "    <tr>\n",
       "      <th>2</th>\n",
       "      <td>110028</td>\n",
       "      <td>Female</td>\n",
       "      <td>Loyal Customer</td>\n",
       "      <td>26</td>\n",
       "      <td>Business travel</td>\n",
       "      <td>Business</td>\n",
       "      <td>1142</td>\n",
       "    </tr>\n",
       "    <tr>\n",
       "      <th>3</th>\n",
       "      <td>24026</td>\n",
       "      <td>Female</td>\n",
       "      <td>Loyal Customer</td>\n",
       "      <td>25</td>\n",
       "      <td>Business travel</td>\n",
       "      <td>Business</td>\n",
       "      <td>562</td>\n",
       "    </tr>\n",
       "    <tr>\n",
       "      <th>4</th>\n",
       "      <td>119299</td>\n",
       "      <td>Male</td>\n",
       "      <td>Loyal Customer</td>\n",
       "      <td>61</td>\n",
       "      <td>Business travel</td>\n",
       "      <td>Business</td>\n",
       "      <td>214</td>\n",
       "    </tr>\n",
       "  </tbody>\n",
       "</table>\n",
       "</div>"
      ],
      "text/plain": [
       "       id  Gender      Customer_Type  Age   Type_of_Travel     Class  \\\n",
       "0   70172    Male     Loyal Customer   13  Personal Travel  Eco Plus   \n",
       "1    5047    Male  disloyal Customer   25  Business travel  Business   \n",
       "2  110028  Female     Loyal Customer   26  Business travel  Business   \n",
       "3   24026  Female     Loyal Customer   25  Business travel  Business   \n",
       "4  119299    Male     Loyal Customer   61  Business travel  Business   \n",
       "\n",
       "   Flight_Distance  \n",
       "0              460  \n",
       "1              235  \n",
       "2             1142  \n",
       "3              562  \n",
       "4              214  "
      ]
     },
     "execution_count": 7,
     "metadata": {},
     "output_type": "execute_result"
    }
   ],
   "source": [
    "customer.head()"
   ]
  },
  {
   "cell_type": "code",
   "execution_count": 8,
   "id": "f5099247",
   "metadata": {},
   "outputs": [
    {
     "name": "stdout",
     "output_type": "stream",
     "text": [
      "<class 'pandas.core.frame.DataFrame'>\n",
      "RangeIndex: 103904 entries, 0 to 103903\n",
      "Data columns (total 18 columns):\n",
      " #   Column                             Non-Null Count   Dtype  \n",
      "---  ------                             --------------   -----  \n",
      " 0   id                                 103904 non-null  int64  \n",
      " 1   Inflight_wifi_service              103904 non-null  int64  \n",
      " 2   Departure/Arrival_time_convenient  103904 non-null  int64  \n",
      " 3   Ease_of_Online_booking             103904 non-null  int64  \n",
      " 4   Gate_location                      103904 non-null  int64  \n",
      " 5   Food_and_drink                     103904 non-null  int64  \n",
      " 6   Online_boarding                    103904 non-null  int64  \n",
      " 7   Seat_comfort                       103904 non-null  int64  \n",
      " 8   Inflight_entertainment             103904 non-null  int64  \n",
      " 9   On-board_service                   103904 non-null  int64  \n",
      " 10  Leg_room_service                   103904 non-null  int64  \n",
      " 11  Baggage_handling                   103904 non-null  int64  \n",
      " 12  Checkin_service                    103904 non-null  int64  \n",
      " 13  Inflight_service                   103904 non-null  int64  \n",
      " 14  Cleanliness                        103904 non-null  int64  \n",
      " 15  Departure_Delay_in_Minutes         103904 non-null  int64  \n",
      " 16  Arrival_Delay_in_Minutes           103904 non-null  float64\n",
      " 17  satisfaction                       103904 non-null  object \n",
      "dtypes: float64(1), int64(16), object(1)\n",
      "memory usage: 14.3+ MB\n"
     ]
    }
   ],
   "source": [
    "satisfaction.info()"
   ]
  },
  {
   "cell_type": "code",
   "execution_count": 9,
   "id": "7e85ed65",
   "metadata": {},
   "outputs": [
    {
     "data": {
      "text/html": [
       "<div>\n",
       "<style scoped>\n",
       "    .dataframe tbody tr th:only-of-type {\n",
       "        vertical-align: middle;\n",
       "    }\n",
       "\n",
       "    .dataframe tbody tr th {\n",
       "        vertical-align: top;\n",
       "    }\n",
       "\n",
       "    .dataframe thead th {\n",
       "        text-align: right;\n",
       "    }\n",
       "</style>\n",
       "<table border=\"1\" class=\"dataframe\">\n",
       "  <thead>\n",
       "    <tr style=\"text-align: right;\">\n",
       "      <th></th>\n",
       "      <th>id</th>\n",
       "      <th>Inflight_wifi_service</th>\n",
       "      <th>Departure/Arrival_time_convenient</th>\n",
       "      <th>Ease_of_Online_booking</th>\n",
       "      <th>Gate_location</th>\n",
       "      <th>Food_and_drink</th>\n",
       "      <th>Online_boarding</th>\n",
       "      <th>Seat_comfort</th>\n",
       "      <th>Inflight_entertainment</th>\n",
       "      <th>On-board_service</th>\n",
       "      <th>Leg_room_service</th>\n",
       "      <th>Baggage_handling</th>\n",
       "      <th>Checkin_service</th>\n",
       "      <th>Inflight_service</th>\n",
       "      <th>Cleanliness</th>\n",
       "      <th>Departure_Delay_in_Minutes</th>\n",
       "      <th>Arrival_Delay_in_Minutes</th>\n",
       "      <th>satisfaction</th>\n",
       "    </tr>\n",
       "  </thead>\n",
       "  <tbody>\n",
       "    <tr>\n",
       "      <th>0</th>\n",
       "      <td>70172</td>\n",
       "      <td>3</td>\n",
       "      <td>4</td>\n",
       "      <td>3</td>\n",
       "      <td>1</td>\n",
       "      <td>5</td>\n",
       "      <td>3</td>\n",
       "      <td>5</td>\n",
       "      <td>5</td>\n",
       "      <td>4</td>\n",
       "      <td>3</td>\n",
       "      <td>4</td>\n",
       "      <td>4</td>\n",
       "      <td>5</td>\n",
       "      <td>5</td>\n",
       "      <td>25</td>\n",
       "      <td>18.0</td>\n",
       "      <td>neutral or dissatisfied</td>\n",
       "    </tr>\n",
       "    <tr>\n",
       "      <th>1</th>\n",
       "      <td>5047</td>\n",
       "      <td>3</td>\n",
       "      <td>2</td>\n",
       "      <td>3</td>\n",
       "      <td>3</td>\n",
       "      <td>1</td>\n",
       "      <td>3</td>\n",
       "      <td>1</td>\n",
       "      <td>1</td>\n",
       "      <td>1</td>\n",
       "      <td>5</td>\n",
       "      <td>3</td>\n",
       "      <td>1</td>\n",
       "      <td>4</td>\n",
       "      <td>1</td>\n",
       "      <td>1</td>\n",
       "      <td>6.0</td>\n",
       "      <td>neutral or dissatisfied</td>\n",
       "    </tr>\n",
       "    <tr>\n",
       "      <th>2</th>\n",
       "      <td>110028</td>\n",
       "      <td>2</td>\n",
       "      <td>2</td>\n",
       "      <td>2</td>\n",
       "      <td>2</td>\n",
       "      <td>5</td>\n",
       "      <td>5</td>\n",
       "      <td>5</td>\n",
       "      <td>5</td>\n",
       "      <td>4</td>\n",
       "      <td>3</td>\n",
       "      <td>4</td>\n",
       "      <td>4</td>\n",
       "      <td>4</td>\n",
       "      <td>5</td>\n",
       "      <td>0</td>\n",
       "      <td>0.0</td>\n",
       "      <td>satisfied</td>\n",
       "    </tr>\n",
       "    <tr>\n",
       "      <th>3</th>\n",
       "      <td>24026</td>\n",
       "      <td>2</td>\n",
       "      <td>5</td>\n",
       "      <td>5</td>\n",
       "      <td>5</td>\n",
       "      <td>2</td>\n",
       "      <td>2</td>\n",
       "      <td>2</td>\n",
       "      <td>2</td>\n",
       "      <td>2</td>\n",
       "      <td>5</td>\n",
       "      <td>3</td>\n",
       "      <td>1</td>\n",
       "      <td>4</td>\n",
       "      <td>2</td>\n",
       "      <td>11</td>\n",
       "      <td>9.0</td>\n",
       "      <td>neutral or dissatisfied</td>\n",
       "    </tr>\n",
       "    <tr>\n",
       "      <th>4</th>\n",
       "      <td>119299</td>\n",
       "      <td>3</td>\n",
       "      <td>3</td>\n",
       "      <td>3</td>\n",
       "      <td>3</td>\n",
       "      <td>4</td>\n",
       "      <td>5</td>\n",
       "      <td>5</td>\n",
       "      <td>3</td>\n",
       "      <td>3</td>\n",
       "      <td>4</td>\n",
       "      <td>4</td>\n",
       "      <td>3</td>\n",
       "      <td>3</td>\n",
       "      <td>3</td>\n",
       "      <td>0</td>\n",
       "      <td>0.0</td>\n",
       "      <td>satisfied</td>\n",
       "    </tr>\n",
       "  </tbody>\n",
       "</table>\n",
       "</div>"
      ],
      "text/plain": [
       "       id  Inflight_wifi_service  Departure/Arrival_time_convenient  \\\n",
       "0   70172                      3                                  4   \n",
       "1    5047                      3                                  2   \n",
       "2  110028                      2                                  2   \n",
       "3   24026                      2                                  5   \n",
       "4  119299                      3                                  3   \n",
       "\n",
       "   Ease_of_Online_booking  Gate_location  Food_and_drink  Online_boarding  \\\n",
       "0                       3              1               5                3   \n",
       "1                       3              3               1                3   \n",
       "2                       2              2               5                5   \n",
       "3                       5              5               2                2   \n",
       "4                       3              3               4                5   \n",
       "\n",
       "   Seat_comfort  Inflight_entertainment  On-board_service  Leg_room_service  \\\n",
       "0             5                       5                 4                 3   \n",
       "1             1                       1                 1                 5   \n",
       "2             5                       5                 4                 3   \n",
       "3             2                       2                 2                 5   \n",
       "4             5                       3                 3                 4   \n",
       "\n",
       "   Baggage_handling  Checkin_service  Inflight_service  Cleanliness  \\\n",
       "0                 4                4                 5            5   \n",
       "1                 3                1                 4            1   \n",
       "2                 4                4                 4            5   \n",
       "3                 3                1                 4            2   \n",
       "4                 4                3                 3            3   \n",
       "\n",
       "   Departure_Delay_in_Minutes  Arrival_Delay_in_Minutes  \\\n",
       "0                          25                      18.0   \n",
       "1                           1                       6.0   \n",
       "2                           0                       0.0   \n",
       "3                          11                       9.0   \n",
       "4                           0                       0.0   \n",
       "\n",
       "              satisfaction  \n",
       "0  neutral or dissatisfied  \n",
       "1  neutral or dissatisfied  \n",
       "2                satisfied  \n",
       "3  neutral or dissatisfied  \n",
       "4                satisfied  "
      ]
     },
     "execution_count": 9,
     "metadata": {},
     "output_type": "execute_result"
    }
   ],
   "source": [
    "satisfaction.head()"
   ]
  },
  {
   "cell_type": "code",
   "execution_count": 10,
   "id": "88d7c139",
   "metadata": {},
   "outputs": [],
   "source": [
    "# Join tables on the primary key \"id\"\n",
    "joint_df = pd.merge(customer, satisfaction, on='id', how='inner')"
   ]
  },
  {
   "cell_type": "code",
   "execution_count": 11,
   "id": "0e58260f",
   "metadata": {},
   "outputs": [
    {
     "data": {
      "text/html": [
       "<div>\n",
       "<style scoped>\n",
       "    .dataframe tbody tr th:only-of-type {\n",
       "        vertical-align: middle;\n",
       "    }\n",
       "\n",
       "    .dataframe tbody tr th {\n",
       "        vertical-align: top;\n",
       "    }\n",
       "\n",
       "    .dataframe thead th {\n",
       "        text-align: right;\n",
       "    }\n",
       "</style>\n",
       "<table border=\"1\" class=\"dataframe\">\n",
       "  <thead>\n",
       "    <tr style=\"text-align: right;\">\n",
       "      <th></th>\n",
       "      <th>id</th>\n",
       "      <th>Gender</th>\n",
       "      <th>Customer_Type</th>\n",
       "      <th>Age</th>\n",
       "      <th>Type_of_Travel</th>\n",
       "      <th>Class</th>\n",
       "      <th>Flight_Distance</th>\n",
       "      <th>Inflight_wifi_service</th>\n",
       "      <th>Departure/Arrival_time_convenient</th>\n",
       "      <th>Ease_of_Online_booking</th>\n",
       "      <th>...</th>\n",
       "      <th>Inflight_entertainment</th>\n",
       "      <th>On-board_service</th>\n",
       "      <th>Leg_room_service</th>\n",
       "      <th>Baggage_handling</th>\n",
       "      <th>Checkin_service</th>\n",
       "      <th>Inflight_service</th>\n",
       "      <th>Cleanliness</th>\n",
       "      <th>Departure_Delay_in_Minutes</th>\n",
       "      <th>Arrival_Delay_in_Minutes</th>\n",
       "      <th>satisfaction</th>\n",
       "    </tr>\n",
       "  </thead>\n",
       "  <tbody>\n",
       "    <tr>\n",
       "      <th>0</th>\n",
       "      <td>70172</td>\n",
       "      <td>Male</td>\n",
       "      <td>Loyal Customer</td>\n",
       "      <td>13</td>\n",
       "      <td>Personal Travel</td>\n",
       "      <td>Eco Plus</td>\n",
       "      <td>460</td>\n",
       "      <td>3</td>\n",
       "      <td>4</td>\n",
       "      <td>3</td>\n",
       "      <td>...</td>\n",
       "      <td>5</td>\n",
       "      <td>4</td>\n",
       "      <td>3</td>\n",
       "      <td>4</td>\n",
       "      <td>4</td>\n",
       "      <td>5</td>\n",
       "      <td>5</td>\n",
       "      <td>25</td>\n",
       "      <td>18.0</td>\n",
       "      <td>neutral or dissatisfied</td>\n",
       "    </tr>\n",
       "    <tr>\n",
       "      <th>1</th>\n",
       "      <td>5047</td>\n",
       "      <td>Male</td>\n",
       "      <td>disloyal Customer</td>\n",
       "      <td>25</td>\n",
       "      <td>Business travel</td>\n",
       "      <td>Business</td>\n",
       "      <td>235</td>\n",
       "      <td>3</td>\n",
       "      <td>2</td>\n",
       "      <td>3</td>\n",
       "      <td>...</td>\n",
       "      <td>1</td>\n",
       "      <td>1</td>\n",
       "      <td>5</td>\n",
       "      <td>3</td>\n",
       "      <td>1</td>\n",
       "      <td>4</td>\n",
       "      <td>1</td>\n",
       "      <td>1</td>\n",
       "      <td>6.0</td>\n",
       "      <td>neutral or dissatisfied</td>\n",
       "    </tr>\n",
       "    <tr>\n",
       "      <th>2</th>\n",
       "      <td>110028</td>\n",
       "      <td>Female</td>\n",
       "      <td>Loyal Customer</td>\n",
       "      <td>26</td>\n",
       "      <td>Business travel</td>\n",
       "      <td>Business</td>\n",
       "      <td>1142</td>\n",
       "      <td>2</td>\n",
       "      <td>2</td>\n",
       "      <td>2</td>\n",
       "      <td>...</td>\n",
       "      <td>5</td>\n",
       "      <td>4</td>\n",
       "      <td>3</td>\n",
       "      <td>4</td>\n",
       "      <td>4</td>\n",
       "      <td>4</td>\n",
       "      <td>5</td>\n",
       "      <td>0</td>\n",
       "      <td>0.0</td>\n",
       "      <td>satisfied</td>\n",
       "    </tr>\n",
       "    <tr>\n",
       "      <th>3</th>\n",
       "      <td>24026</td>\n",
       "      <td>Female</td>\n",
       "      <td>Loyal Customer</td>\n",
       "      <td>25</td>\n",
       "      <td>Business travel</td>\n",
       "      <td>Business</td>\n",
       "      <td>562</td>\n",
       "      <td>2</td>\n",
       "      <td>5</td>\n",
       "      <td>5</td>\n",
       "      <td>...</td>\n",
       "      <td>2</td>\n",
       "      <td>2</td>\n",
       "      <td>5</td>\n",
       "      <td>3</td>\n",
       "      <td>1</td>\n",
       "      <td>4</td>\n",
       "      <td>2</td>\n",
       "      <td>11</td>\n",
       "      <td>9.0</td>\n",
       "      <td>neutral or dissatisfied</td>\n",
       "    </tr>\n",
       "    <tr>\n",
       "      <th>4</th>\n",
       "      <td>119299</td>\n",
       "      <td>Male</td>\n",
       "      <td>Loyal Customer</td>\n",
       "      <td>61</td>\n",
       "      <td>Business travel</td>\n",
       "      <td>Business</td>\n",
       "      <td>214</td>\n",
       "      <td>3</td>\n",
       "      <td>3</td>\n",
       "      <td>3</td>\n",
       "      <td>...</td>\n",
       "      <td>3</td>\n",
       "      <td>3</td>\n",
       "      <td>4</td>\n",
       "      <td>4</td>\n",
       "      <td>3</td>\n",
       "      <td>3</td>\n",
       "      <td>3</td>\n",
       "      <td>0</td>\n",
       "      <td>0.0</td>\n",
       "      <td>satisfied</td>\n",
       "    </tr>\n",
       "  </tbody>\n",
       "</table>\n",
       "<p>5 rows × 24 columns</p>\n",
       "</div>"
      ],
      "text/plain": [
       "       id  Gender      Customer_Type  Age   Type_of_Travel     Class  \\\n",
       "0   70172    Male     Loyal Customer   13  Personal Travel  Eco Plus   \n",
       "1    5047    Male  disloyal Customer   25  Business travel  Business   \n",
       "2  110028  Female     Loyal Customer   26  Business travel  Business   \n",
       "3   24026  Female     Loyal Customer   25  Business travel  Business   \n",
       "4  119299    Male     Loyal Customer   61  Business travel  Business   \n",
       "\n",
       "   Flight_Distance  Inflight_wifi_service  Departure/Arrival_time_convenient  \\\n",
       "0              460                      3                                  4   \n",
       "1              235                      3                                  2   \n",
       "2             1142                      2                                  2   \n",
       "3              562                      2                                  5   \n",
       "4              214                      3                                  3   \n",
       "\n",
       "   Ease_of_Online_booking  ...  Inflight_entertainment  On-board_service  \\\n",
       "0                       3  ...                       5                 4   \n",
       "1                       3  ...                       1                 1   \n",
       "2                       2  ...                       5                 4   \n",
       "3                       5  ...                       2                 2   \n",
       "4                       3  ...                       3                 3   \n",
       "\n",
       "   Leg_room_service  Baggage_handling  Checkin_service  Inflight_service  \\\n",
       "0                 3                 4                4                 5   \n",
       "1                 5                 3                1                 4   \n",
       "2                 3                 4                4                 4   \n",
       "3                 5                 3                1                 4   \n",
       "4                 4                 4                3                 3   \n",
       "\n",
       "   Cleanliness  Departure_Delay_in_Minutes  Arrival_Delay_in_Minutes  \\\n",
       "0            5                          25                      18.0   \n",
       "1            1                           1                       6.0   \n",
       "2            5                           0                       0.0   \n",
       "3            2                          11                       9.0   \n",
       "4            3                           0                       0.0   \n",
       "\n",
       "              satisfaction  \n",
       "0  neutral or dissatisfied  \n",
       "1  neutral or dissatisfied  \n",
       "2                satisfied  \n",
       "3  neutral or dissatisfied  \n",
       "4                satisfied  \n",
       "\n",
       "[5 rows x 24 columns]"
      ]
     },
     "execution_count": 11,
     "metadata": {},
     "output_type": "execute_result"
    }
   ],
   "source": [
    "joint_df.head()"
   ]
  },
  {
   "cell_type": "code",
   "execution_count": 12,
   "id": "3f4081df",
   "metadata": {},
   "outputs": [
    {
     "name": "stdout",
     "output_type": "stream",
     "text": [
      "          id      Customer_Type  Gender  Flight_Distance  \\\n",
      "2847   31870     Loyal Customer  Female             4983   \n",
      "18434  31876     Loyal Customer  Female             4983   \n",
      "19755  31871     Loyal Customer  Female             4983   \n",
      "33094  31878     Loyal Customer  Female             4983   \n",
      "46848  31812     Loyal Customer    Male             4983   \n",
      "...      ...                ...     ...              ...   \n",
      "78405  56172  disloyal Customer  Female             1000   \n",
      "43779  54179     Loyal Customer  Female             1000   \n",
      "88530  56173  disloyal Customer  Female             1000   \n",
      "91056  54174     Loyal Customer    Male             1000   \n",
      "1717   56174     Loyal Customer    Male             1000   \n",
      "\n",
      "       Arrival_Delay_in_Minutes  \n",
      "2847                        0.0  \n",
      "18434                       0.0  \n",
      "19755                       0.0  \n",
      "33094                       0.0  \n",
      "46848                       0.0  \n",
      "...                         ...  \n",
      "78405                      23.0  \n",
      "43779                      27.0  \n",
      "88530                      29.0  \n",
      "91056                      29.0  \n",
      "1717                      125.0  \n",
      "\n",
      "[43850 rows x 5 columns]\n"
     ]
    }
   ],
   "source": [
    "# Question 1:\n",
    "# We don't want the name of any customer who's **Flight Distance** is lower than 1000. \n",
    "# Also, this report must be in descending order by **Flight Distance**. \n",
    "# In addition, if there's more than one customer with the same Flight Distance, \n",
    "# order those by their **Arrival Delay in Minutes**.\n",
    "\n",
    "filtered_df = joint_df[joint_df['Flight_Distance'] >= 1000]\n",
    "sorted_df = filtered_df.sort_values(by=['Flight_Distance', 'Arrival_Delay_in_Minutes'], ascending=[False, True])\n",
    "final_table = sorted_df[['id', 'Customer_Type', 'Gender', 'Flight_Distance', 'Arrival_Delay_in_Minutes']]\n",
    "print(final_table)"
   ]
  },
  {
   "cell_type": "markdown",
   "id": "386b615b",
   "metadata": {},
   "source": [
    "## Learn about our loyalty customers"
   ]
  },
  {
   "cell_type": "code",
   "execution_count": 13,
   "id": "f3194b32",
   "metadata": {},
   "outputs": [
    {
     "name": "stdout",
     "output_type": "stream",
     "text": [
      "Average arrival delay time (in minutes) for 'Loyal Customer' who are 'neutral or dissatisfied': 17.33 minutes\n",
      "Average arrival delay time (in minutes) for 'Loyal Customer' who are 'satisfied': 12.64 minutes\n",
      "Average arrival delay time (in minutes) for 'disloyal Customer' who are 'neutral or dissatisfied': 16.48 minutes\n",
      "Average arrival delay time (in minutes) for 'disloyal Customer' who are 'satisfied': 12.62 minutes\n"
     ]
    }
   ],
   "source": [
    "# Question 2:\n",
    "# Calculate the average **Arrival_Delay_in_Minutes** for all combinations of \"Customer_Type\" and \"satisfaction\"\n",
    "\n",
    "# Group by Customer_Type and satisfaction to calculate the average delay\n",
    "average_delays = joint_df.groupby(['Customer_Type', 'satisfaction'])['Arrival_Delay_in_Minutes'].mean().reset_index()\n",
    "\n",
    "# Round the results to 2 decimal places\n",
    "average_delays['Arrival_Delay_in_Minutes'] = average_delays['Arrival_Delay_in_Minutes'].round(2)\n",
    "\n",
    "# Print the results\n",
    "for index, row in average_delays.iterrows():\n",
    "    print(f\"Average arrival delay time (in minutes) for '{row['Customer_Type']}' who are '{row['satisfaction']}': {row['Arrival_Delay_in_Minutes']} minutes\")"
   ]
  },
  {
   "cell_type": "code",
   "execution_count": 14,
   "id": "0b308fee",
   "metadata": {},
   "outputs": [
    {
     "data": {
      "image/png": "[encoded data removed]",
      "text/plain": [
       "<Figure size 720x432 with 1 Axes>"
      ]
     },
     "metadata": {
      "needs_background": "light"
     },
     "output_type": "display_data"
    }
   ],
   "source": [
    "import matplotlib.pyplot as plt\n",
    "import seaborn as sns\n",
    "\n",
    "# Compute average delays grouped by Customer_Type and satisfaction\n",
    "average_delays = joint_df.groupby(['Customer_Type', 'satisfaction'])['Arrival_Delay_in_Minutes'].mean().reset_index()\n",
    "\n",
    "# Filter only for 'satisfied' and 'neutral or dissatisfied'\n",
    "average_delays = average_delays[average_delays['satisfaction'].isin(['satisfied', 'neutral or dissatisfied'])]\n",
    "\n",
    "# Plotting the data\n",
    "plt.figure(figsize=(10, 6))\n",
    "sns.barplot(data=average_delays, \n",
    "            x='satisfaction', \n",
    "            y='Arrival_Delay_in_Minutes', \n",
    "            hue='Customer_Type', \n",
    "            palette=\"coolwarm\")\n",
    "plt.title('Average Arrival Delay by Customer Type and Satisfaction')\n",
    "plt.ylabel('Average Delay (in minutes)')\n",
    "plt.legend(title='Customer Type')\n",
    "plt.show()"
   ]
  },
  {
   "cell_type": "code",
   "execution_count": 15,
   "id": "30303c4f",
   "metadata": {},
   "outputs": [
    {
     "name": "stdout",
     "output_type": "stream",
     "text": [
      "          id  Age  Flight_Distance\n",
      "95982  31881   62             4983\n",
      "79574  31817   38             4983\n",
      "80746  31879   47             4983\n",
      "18434  31876   31             4983\n",
      "74837  31813   37             4983\n",
      "46848  31812   42             4983\n",
      "19755  31871   50             4983\n",
      "33094  31878   29             4983\n",
      "2847   31870   63             4983\n",
      "67767  31880   67             4983\n",
      "64791  31873   50             4983\n",
      "64631  31875   52             4983\n"
     ]
    }
   ],
   "source": [
    "# Question 3: Find the **id**, **Age**, and the **Flight_Distance** of customer(s) \n",
    "# who reached the longest **Flight_Distance**.\n",
    "# The result set should only display the customer(s) with the longest **Flight_Distance**.\n",
    "\n",
    "# Sorting the df based on Flight Distance in descending order\n",
    "sorted_df = joint_df.sort_values(by='Flight_Distance', ascending=False)\n",
    "\n",
    "# Getting the top row(s)\n",
    "longest_flight_distance = sorted_df['Flight_Distance'].iloc[0]\n",
    "top_customers = sorted_df[sorted_df['Flight_Distance'] == longest_flight_distance]\n",
    "\n",
    "# Displaying the desired columns\n",
    "result = top_customers[['id', 'Age', 'Flight_Distance']]\n",
    "print(result)"
   ]
  },
  {
   "cell_type": "markdown",
   "id": "2a9ded00",
   "metadata": {},
   "source": [
    "## Using heatmap to understand customer "
   ]
  },
  {
   "cell_type": "code",
   "execution_count": 16,
   "id": "f0936b95",
   "metadata": {},
   "outputs": [
    {
     "data": {
      "text/plain": [
       "<AxesSubplot:xlabel='Class', ylabel='satisfaction'>"
      ]
     },
     "execution_count": 16,
     "metadata": {},
     "output_type": "execute_result"
    },
    {
     "data": {
      "image/png": "[encoded data removed]",
      "text/plain": [
       "<Figure size 864x576 with 8 Axes>"
      ]
     },
     "metadata": {
      "needs_background": "light"
     },
     "output_type": "display_data"
    }
   ],
   "source": [
    "import matplotlib.pyplot as plt \n",
    "import seaborn as sns\n",
    "fig, axarr = plt.subplots(2, 2, figsize=(12, 8))\n",
    "\n",
    "table1 = pd.crosstab(satisfaction['satisfaction'], customer['Customer_Type'])\n",
    "sns.heatmap(table1, cmap='Oranges', ax = axarr[0][0])\n",
    "table2 = pd.crosstab(satisfaction['satisfaction'], customer['Gender'])\n",
    "sns.heatmap(table2, cmap='Blues', ax = axarr[0][1])\n",
    "table3 = pd.crosstab(satisfaction['satisfaction'], customer['Type_of_Travel'])\n",
    "sns.heatmap(table3, cmap='pink', ax = axarr[1][0])\n",
    "table4 = pd.crosstab(satisfaction['satisfaction'], customer['Class'])\n",
    "sns.heatmap(table4, cmap='bone', ax = axarr[1][1])"
   ]
  },
  {
   "cell_type": "markdown",
   "id": "82185ac6",
   "metadata": {},
   "source": [
    "Dataset found on Kaggle: https://www.kaggle.com/datasets/teejmahal20/airline-passenger-satisfaction"
   ]
  }
 ],
 "metadata": {
  "kernelspec": {
   "display_name": "Python 3",
   "language": "python",
   "name": "python3"
  },
  "language_info": {
   "codemirror_mode": {
    "name": "ipython",
    "version": 3
   },
   "file_extension": ".py",
   "mimetype": "text/x-python",
   "name": "python",
   "nbconvert_exporter": "python",
   "pygments_lexer": "ipython3",
   "version": "3.8.8"
  }
 },
 "nbformat": 4,
 "nbformat_minor": 5
}
